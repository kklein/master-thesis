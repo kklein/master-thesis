{
 "cells": [
  {
   "cell_type": "code",
   "execution_count": 4,
   "metadata": {},
   "outputs": [],
   "source": [
    "import numpy as np\n",
    "import matplotlib.pyplot as plt\n",
    "import scipy.optimize"
   ]
  },
  {
   "cell_type": "code",
   "execution_count": 5,
   "metadata": {},
   "outputs": [],
   "source": [
    "def C(psi,i,j,theta):\n",
    "    x = (psi[i]*theta[i]+psi[j]*theta[j])/(psi[i] + psi[j])\n",
    "    Cij = 0.5 * psi[i]*(  (theta[i] - x)**2 ) + 0.5*psi[j]*((theta[j]-x)**2)\n",
    "    return Cij"
   ]
  },
  {
   "cell_type": "code",
   "execution_count": 178,
   "metadata": {},
   "outputs": [
    {
     "name": "stdout",
     "output_type": "stream",
     "text": [
      "[40 30 20 10]\n"
     ]
    }
   ],
   "source": [
    "N = 4\n",
    "theta = np.arange(1,N+1,1)\n",
    "theta = np.ones(N)*10e-3\n",
    "theta = theta + np.random.randn(N)*10e-8\n",
    "theta = np.arange(1,N+1,1)*10\n",
    "theta = np.sort(theta)\n",
    "theta = theta[::-1]\n",
    "print (theta)"
   ]
  },
  {
   "cell_type": "code",
   "execution_count": 179,
   "metadata": {},
   "outputs": [
    {
     "name": "stdout",
     "output_type": "stream",
     "text": [
      "[0.25 0.25 0.25 0.25]\n"
     ]
    }
   ],
   "source": [
    "psi = np.ones(N)/N\n",
    "print (psi)"
   ]
  },
  {
   "cell_type": "code",
   "execution_count": 180,
   "metadata": {},
   "outputs": [
    {
     "data": {
      "text/plain": [
       "[(0, 2), (0, 3), (1, 2), (1, 3)]"
      ]
     },
     "execution_count": 180,
     "metadata": {},
     "output_type": "execute_result"
    }
   ],
   "source": [
    "# top 2 problem\n",
    "optimal = [0,1]\n",
    "suboptimal = np.arange(2,N,1)\n",
    "comb = []\n",
    "for i in optimal:\n",
    "    for j in suboptimal:\n",
    "        comb.append((i,j))\n",
    "comb"
   ]
  },
  {
   "cell_type": "code",
   "execution_count": 234,
   "metadata": {},
   "outputs": [],
   "source": [
    "def cost(psi):\n",
    "    res = 0\n",
    "    for l,k in comb:\n",
    "        for i,j in comb:\n",
    "            res = res + np.abs(C(psi,i,j,theta) - C(psi,k,l,theta))\n",
    "    return res"
   ]
  },
  {
   "cell_type": "code",
   "execution_count": 235,
   "metadata": {},
   "outputs": [],
   "source": [
    "# def cost(psi):\n",
    "#     res = 0\n",
    "#     for l,k in comb:\n",
    "#         for i,j in comb:\n",
    "#             res = res + (C(psi,i,j,theta) - C(psi,k,l,theta))**2\n",
    "#     return res"
   ]
  },
  {
   "cell_type": "code",
   "execution_count": 236,
   "metadata": {},
   "outputs": [
    {
     "name": "stdout",
     "output_type": "stream",
     "text": [
      "[[1. 1. 1. 1.]\n",
      " [1. 0. 0. 0.]\n",
      " [0. 1. 0. 0.]\n",
      " [0. 0. 1. 0.]\n",
      " [0. 0. 0. 1.]]\n",
      "[1. 1. 1. 1. 1.]\n",
      "[1. 0. 0. 0. 0.]\n"
     ]
    }
   ],
   "source": [
    "A = np.concatenate((np.ones(N).reshape(1,-1),np.eye(N)))\n",
    "up = np.ones(N+1)\n",
    "low = np.zeros(N+1)\n",
    "low[0]=1\n",
    "print (A)\n",
    "print (up)\n",
    "print (low)\n",
    "constraints = scipy.optimize.LinearConstraint(A,low,up)"
   ]
  },
  {
   "cell_type": "code",
   "execution_count": 237,
   "metadata": {},
   "outputs": [
    {
     "name": "stdout",
     "output_type": "stream",
     "text": [
      "     fun: 4.0385165281088653e-13\n",
      "     jac: array([-5.82029054e-13, -6.77626358e-21,  3.83940223e+02,  1.38886546e+03])\n",
      " message: 'Positive directional derivative for linesearch'\n",
      "    nfev: 95\n",
      "     nit: 14\n",
      "    njev: 10\n",
      "  status: 8\n",
      " success: False\n",
      "       x: array([ 3.95750103e-09,  9.99999996e-01,  7.92790799e-18, -1.26950117e-16])\n"
     ]
    }
   ],
   "source": [
    "psi = np.random.randn(N)\n",
    "psi = psi/np.sum(psi)\n",
    "r = scipy.optimize.minimize(cost,psi, tol= 10e-32, constraints=constraints)\n",
    "print (r)"
   ]
  },
  {
   "cell_type": "code",
   "execution_count": 238,
   "metadata": {},
   "outputs": [
    {
     "name": "stdout",
     "output_type": "stream",
     "text": [
      "[ 3.95750103e-09  9.99999996e-01  7.92790799e-18 -1.26950117e-16]\n"
     ]
    }
   ],
   "source": [
    "psi1 = r.x\n",
    "print (psi1)"
   ]
  },
  {
   "cell_type": "code",
   "execution_count": 239,
   "metadata": {},
   "outputs": [
    {
     "name": "stdout",
     "output_type": "stream",
     "text": [
      "[1.585581594244648e-15, -5.712755430130381e-14, 3.963953993552455e-16, -2.539002331944264e-14]\n"
     ]
    },
    {
     "data": {
      "text/plain": [
       "[<matplotlib.lines.Line2D at 0x7f2f1d552780>]"
      ]
     },
     "execution_count": 239,
     "metadata": {},
     "output_type": "execute_result"
    },
    {
     "data": {
      "image/png": "[encoded data removed]",
      "text/plain": [
       "<Figure size 432x288 with 1 Axes>"
      ]
     },
     "metadata": {
      "needs_background": "light"
     },
     "output_type": "display_data"
    }
   ],
   "source": [
    "z = []\n",
    "for i,j in comb:\n",
    "    z.append(C(psi1,i,j,theta))\n",
    "print (z)\n",
    "plt.plot(z)"
   ]
  },
  {
   "cell_type": "code",
   "execution_count": 188,
   "metadata": {},
   "outputs": [
    {
     "data": {
      "text/plain": [
       "[<matplotlib.lines.Line2D at 0x7f2f1d815d68>]"
      ]
     },
     "execution_count": 188,
     "metadata": {},
     "output_type": "execute_result"
    },
    {
     "data": {
      "image/png": "[encoded data removed]",
      "text/plain": [
       "<Figure size 432x288 with 1 Axes>"
      ]
     },
     "metadata": {
      "needs_background": "light"
     },
     "output_type": "display_data"
    }
   ],
   "source": [
    "plt.plot(r.x,'o-', lw = 10)\n",
    "#plt.plot(np.cumsum(r.x),'o--', lw = 10)"
   ]
  },
  {
   "cell_type": "code",
   "execution_count": 189,
   "metadata": {},
   "outputs": [
    {
     "data": {
      "text/plain": [
       "[<matplotlib.lines.Line2D at 0x7f2f1d76fe80>]"
      ]
     },
     "execution_count": 189,
     "metadata": {},
     "output_type": "execute_result"
    },
    {
     "data": {
      "image/png": "[encoded data removed]",
      "text/plain": [
       "<Figure size 432x288 with 1 Axes>"
      ]
     },
     "metadata": {
      "needs_background": "light"
     },
     "output_type": "display_data"
    }
   ],
   "source": [
    "plt.plot(np.log(r.x),'o-', lw = 10)"
   ]
  },
  {
   "cell_type": "code",
   "execution_count": 190,
   "metadata": {},
   "outputs": [],
   "source": [
    "# Direct minimization approach"
   ]
  },
  {
   "cell_type": "code",
   "execution_count": 227,
   "metadata": {},
   "outputs": [],
   "source": [
    "def miniminj(psi):\n",
    "    minimum = 10e10\n",
    "    for j in optimal:\n",
    "        for i in suboptimal:\n",
    "            minimum = min(C(psi,j,i,theta),minimum)\n",
    "    return -minimum "
   ]
  },
  {
   "cell_type": "code",
   "execution_count": 229,
   "metadata": {},
   "outputs": [
    {
     "name": "stdout",
     "output_type": "stream",
     "text": [
      "-10.903228473164027\n",
      "[11.362627547006442, 14.349967665017024, 10.903228473164027, 10.903228473164065]\n"
     ]
    }
   ],
   "source": [
    "psi = np.random.randn(N)\n",
    "psi = psi/np.sum(psi)\n",
    "r2 = scipy.optimize.minimize(miniminj,psi, tol= 10e-40, constraints=constraints)\n",
    "print (r2.fun)\n",
    "psi2 = r2.x\n",
    "z = []\n",
    "for i,j in comb:\n",
    "    z.append(C(psi2,i,j,theta))\n",
    "print (z)\n",
    "#print(psi2)"
   ]
  },
  {
   "cell_type": "code",
   "execution_count": null,
   "metadata": {},
   "outputs": [],
   "source": []
  },
  {
   "cell_type": "code",
   "execution_count": 230,
   "metadata": {},
   "outputs": [
    {
     "name": "stdout",
     "output_type": "stream",
     "text": [
      "[11.362627547006442, 14.349967665017024, 10.903228473164027, 10.903228473164065]\n"
     ]
    }
   ],
   "source": [
    "z = []\n",
    "for i,j in comb:\n",
    "    z.append(C(psi2,i,j,theta))\n",
    "print (z)\n",
    "#print(psi2)"
   ]
  },
  {
   "cell_type": "code",
   "execution_count": 231,
   "metadata": {},
   "outputs": [
    {
     "data": {
      "text/plain": [
       "Text(0.5, 0, 'Arm i')"
      ]
     },
     "execution_count": 231,
     "metadata": {},
     "output_type": "execute_result"
    },
    {
     "data": {
      "image/png": "[encoded data removed]",
      "text/plain": [
       "<Figure size 432x288 with 2 Axes>"
      ]
     },
     "metadata": {
      "needs_background": "light"
     },
     "output_type": "display_data"
    }
   ],
   "source": [
    "plt.subplot(211)\n",
    "plt.plot(r.x,'o-', lw = 10)\n",
    "plt.plot(r2.x,'o--',lw = 10)\n",
    "plt.xticks(np.arange(5))\n",
    "plt.xlabel(\"Arm i\")\n",
    "plt.ylabel(\"Probability\")\n",
    "#plt.plot(np.cumsum(r.x))\n",
    "plt.subplot(212)\n",
    "plt.ylabel(\"$\\\\theta$\")\n",
    "plt.plot(theta,'o-')\n",
    "plt.xlabel(\"Arm i\")"
   ]
  },
  {
   "cell_type": "code",
   "execution_count": 196,
   "metadata": {},
   "outputs": [
    {
     "data": {
      "text/plain": [
       "58.659247808164785"
      ]
     },
     "execution_count": 196,
     "metadata": {},
     "output_type": "execute_result"
    }
   ],
   "source": []
  },
  {
   "cell_type": "code",
   "execution_count": null,
   "metadata": {},
   "outputs": [],
   "source": []
  }
 ],
 "metadata": {
  "kernelspec": {
   "display_name": "Python 3",
   "language": "python",
   "name": "python3"
  },
  "language_info": {
   "codemirror_mode": {
    "name": "ipython",
    "version": 3
   },
   "file_extension": ".py",
   "mimetype": "text/x-python",
   "name": "python",
   "nbconvert_exporter": "python",
   "pygments_lexer": "ipython3",
   "version": "3.6.3"
  }
 },
 "nbformat": 4,
 "nbformat_minor": 4
}
